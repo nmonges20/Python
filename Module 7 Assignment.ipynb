{
 "cells": [
  {
   "cell_type": "markdown",
   "id": "5b5258fe",
   "metadata": {},
   "source": [
    "# Assignment 7\n",
    "### Nathan Monges\n",
    "### 04/24/24"
   ]
  },
  {
   "cell_type": "markdown",
   "id": "c0ebfbde",
   "metadata": {},
   "source": [
    "## Question 1\n",
    "A palindrome is a word, phrase, or sequence that is the same spelled forward as it is backwards.\n",
    "Write a function using a for-loop to determine if a string is a palindrome. Your function should only have one argument. "
   ]
  },
  {
   "cell_type": "code",
   "execution_count": 81,
   "id": "75b35247",
   "metadata": {},
   "outputs": [
    {
     "data": {
      "text/plain": [
       "True"
      ]
     },
     "execution_count": 81,
     "metadata": {},
     "output_type": "execute_result"
    }
   ],
   "source": [
    "# your code here\n",
    "\n",
    "def palindrome(word):\n",
    "    reversed_word = word[::-1]\n",
    "    for i in range(len(word)):\n",
    "        if word[i] != reversed_word[i]:\n",
    "            return False\n",
    "        return True \n",
    "\n",
    "palindrome(\"civic\")"
   ]
  },
  {
   "cell_type": "markdown",
   "id": "c6916bad",
   "metadata": {},
   "source": [
    "## Question 2\n",
    "Write a function using a while-loop to determine if a string is a palindrome. Your function should only have one argument. "
   ]
  },
  {
   "cell_type": "code",
   "execution_count": 26,
   "id": "c0f1525d",
   "metadata": {},
   "outputs": [
    {
     "data": {
      "text/plain": [
       "True"
      ]
     },
     "execution_count": 26,
     "metadata": {},
     "output_type": "execute_result"
    }
   ],
   "source": [
    "# your code here\n",
    "\n",
    "\n",
    "def paldrome(wrd):\n",
    "    i = 0\n",
    "    wrd_reversed = wrd[::-1]\n",
    "    while i < len(wrd):\n",
    "        if wrd[i] != wrd_reversed[i]:\n",
    "            return False \n",
    "        i += 1 \n",
    "    return True \n",
    "\n",
    "paldrome(\"civic\")"
   ]
  },
  {
   "cell_type": "markdown",
   "id": "d85c8321",
   "metadata": {},
   "source": [
    "## Question 3\n",
    "Two Sum - Write a function named two_sum()\n",
    "Given a vector of integers nums and an integer target, return indices of the two numbers such that they add\n",
    "up to target. You may assume that each input would have exactly one solution, and you may not use the same element\n",
    "twice. You can return the answer in any order.Use defaultdict and hash maps/tables to complete this problem. \n",
    "\n",
    "Example 1:\n",
    "Input: `nums = [2,7,11,15]`, target = 9 Output: `[0,1]` Explanation: Because `nums[0] + nums[1] == 9`, we\n",
    "return `[0, 1]`. \n",
    "\n",
    "Example 2:\n",
    "Input: `nums = [3,2,4]`, `target = 6 Output: [1,2]` \n",
    "\n",
    "Example 3:\n",
    "Input: `nums = [3,3]`, `target = 6 Output: [0,1]`\n",
    "\n",
    "Constraints:\n",
    "`2 <= nums.length <= 104 –109 <= nums[i] <= 109 –109 <= target <= 109` Only one valid answer exists."
   ]
  },
  {
   "cell_type": "code",
   "execution_count": 78,
   "id": "46a63aa3",
   "metadata": {},
   "outputs": [
    {
     "data": {
      "text/plain": [
       "[[5, 0], [6, 1], [7, 4], [0, 5], [1, 6], [4, 7]]"
      ]
     },
     "execution_count": 78,
     "metadata": {},
     "output_type": "execute_result"
    }
   ],
   "source": [
    "# your code here\n",
    "from collections import defaultdict\n",
    "\n",
    "def two_sum(nums, target):\n",
    "    hash_map = defaultdict(int)\n",
    "    \n",
    "    for i in range(len(nums)):\n",
    "        hash_map[nums[i]] = i\n",
    "        \n",
    "    results = []\n",
    "\n",
    "    for i in range(len(nums)):\n",
    "        complement = target - nums[i]\n",
    "        if complement in hash_map and hash_map[complement]!= i:\n",
    "            results.append([hash_map[complement], i])\n",
    "    return results\n",
    "            \n",
    "nums = [5,7,12,34,6,10,8,9]\n",
    "target = 15 \n",
    "two_sum(nums,target)"
   ]
  },
  {
   "cell_type": "markdown",
   "id": "9ec37669",
   "metadata": {},
   "source": [
    "## Question 4\n",
    "How is a negative index used in Python? Show an example"
   ]
  },
  {
   "cell_type": "markdown",
   "id": "ac33f181-e75c-476c-8af2-be0ecf38fb70",
   "metadata": {},
   "source": [
    "Negative indexes can be used to iterate over a list, string or other data structures in the reverse order starting at index number -1 can on to the amoount of characters. -1 brings you to the last index in your list or string. An example of this would be how I used negative indexes in my for loop in question 1. \n",
    "\n",
    "I created a variable named reversed_word which is just a word (argument) that is provided in the palindrome() function in reversed. So for in the function, the for loop is is iterating over the word provided in the forward direction and in the reverse direction which was specified in word_reversed = word \\[:  :-1]."
   ]
  },
  {
   "cell_type": "markdown",
   "id": "3128782b",
   "metadata": {},
   "source": [
    "## Question 5\n",
    "Check if two given strings are isomorphic to each other. Two strings str1 and str2 are called isomorphic if there is a one-to-one mapping possible for every character of str1 to every character of str2. And all occurrences of every character in ‘str1’ map to the same character in ‘str2’.\n",
    "\n",
    "`Input:  str1 = \"aab\", str2 = \"xxy\"`\n",
    "\n",
    "`Output: True`\n",
    "\n",
    "`'a' is mapped to 'x' and 'b' is mapped to 'y'.`\n",
    "\n",
    "`Input:  str1 = \"aab\", str2 = \"xyz\"`\n",
    "\n",
    "`Output: False`\n",
    "\n",
    "`One occurrence of 'a' in str1 has 'x' in str2 and other occurrence of 'a' has 'y'.`\n",
    "\n",
    "A Simple Solution is to consider every character of ‘str1’ and check if all occurrences of it map to the same character in ‘str2’. The time complexity of this solution is O(n*n).\n",
    "\n",
    "An Efficient Solution can solve this problem in O(n) time. The idea is to create an array to store mappings of processed characters. \n"
   ]
  },
  {
   "cell_type": "code",
   "execution_count": 92,
   "id": "53f3a149",
   "metadata": {},
   "outputs": [
    {
     "name": "stdout",
     "output_type": "stream",
     "text": [
      "True\n",
      "False\n"
     ]
    }
   ],
   "source": [
    "# your code here\n",
    "\n",
    "def isomorphic(str1, str2):\n",
    "    if len(str1) != len(str2):\n",
    "        return False\n",
    "    \n",
    "    n = len(str1)\n",
    "    \n",
    "    for i in range(n):\n",
    "        s1 = str1[i]\n",
    "        s2 = str2[i]\n",
    "        for j in range(i, n):\n",
    "            if (str1[j] == s1) != (str2[j] == s2):\n",
    "                return False\n",
    "    \n",
    "    return True\n",
    "\n",
    "print(isomorphic(\"aab\", \"xxy\"))  \n",
    "print(isomorphic(\"aab\", \"xyz\"))\n",
    "\n"
   ]
  },
  {
   "cell_type": "code",
   "execution_count": null,
   "id": "409e6600-d600-4e4f-8c77-33d2695105fb",
   "metadata": {},
   "outputs": [],
   "source": []
  }
 ],
 "metadata": {
  "kernelspec": {
   "display_name": "Python 3 (ipykernel)",
   "language": "python",
   "name": "python3"
  },
  "language_info": {
   "codemirror_mode": {
    "name": "ipython",
    "version": 3
   },
   "file_extension": ".py",
   "mimetype": "text/x-python",
   "name": "python",
   "nbconvert_exporter": "python",
   "pygments_lexer": "ipython3",
   "version": "3.11.7"
  }
 },
 "nbformat": 4,
 "nbformat_minor": 5
}
