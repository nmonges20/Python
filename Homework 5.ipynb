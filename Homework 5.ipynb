{
 "cells": [
  {
   "cell_type": "markdown",
   "id": "88671a38",
   "metadata": {},
   "source": [
    "# Homework 5\n",
    "### Nathan Monges\n",
    "### 04/11/2024"
   ]
  },
  {
   "cell_type": "markdown",
   "id": "822c38b0",
   "metadata": {},
   "source": [
    "Answer each question by writing the Python code needed to perform the task. Please only use the libraries requested in each problem. "
   ]
  },
  {
   "cell_type": "markdown",
   "id": "c25d3684",
   "metadata": {},
   "source": [
    "### Problem 1\n",
    "Load the interest_inflation data from the statsmodels library as a pandas data frame assigned to `df`. Use the function `df.head()` to view the first 5 rows of the data. Notice the first observation is indexed at 0. Unlike R, Python is a 0 based index language which means when you iterate or wish to view the first observation of a data object it will be at the index 0. \n",
    "\n",
    "What do the columns `Dp` and `R` represent? (You can find this using the documentation)\n"
   ]
  },
  {
   "cell_type": "code",
   "execution_count": 3,
   "id": "723f0215",
   "metadata": {},
   "outputs": [
    {
     "name": "stdout",
     "output_type": "stream",
     "text": [
      "     year  quarter        Dp      R\n",
      "0  1972.0      2.0 -0.003133  0.083\n",
      "1  1972.0      3.0  0.018871  0.083\n",
      "2  1972.0      4.0  0.024804  0.087\n",
      "3  1973.0      1.0  0.016278  0.087\n",
      "4  1973.0      2.0  0.000290  0.102\n"
     ]
    }
   ],
   "source": [
    "# your code here\n",
    "import numpy as np\n",
    "\n",
    "import statsmodels.api as sm\n",
    "\n",
    "import statsmodels.formula.api as smf\n",
    "\n",
    "# Load interest inflation data \n",
    "df = sm.datasets.interest_inflation.load_pandas().data\n",
    "\n",
    "# Head of df \n",
    "print(df.head())\n",
    "\n",
    "# Dp column - Delta log gdp deflator\n",
    "# R column - nominal long term interest rate\n"
   ]
  },
  {
   "cell_type": "markdown",
   "id": "724b3e2c",
   "metadata": {},
   "source": [
    "### Problem 2\n",
    "Import scipy as sp and numpy as np. Using the `mean()` and `var()` function from scipy, validate that both functions equate to their numpy counterparts against the column `Dp`.\n",
    "\n",
    "By using the scipy library you should receive a warning message. What does the warning message indicate? Which function should you use going forward? "
   ]
  },
  {
   "cell_type": "code",
   "execution_count": 32,
   "id": "83dc8d7f",
   "metadata": {},
   "outputs": [
    {
     "name": "stdout",
     "output_type": "stream",
     "text": [
      "Mean (Scipy vs Numpy: True\n",
      "Variance (Scipy vs Numpy: True\n"
     ]
    },
    {
     "name": "stderr",
     "output_type": "stream",
     "text": [
      "/var/folders/f4/pcf9r9h91lbgszy1pxgprndr0000gn/T/ipykernel_29157/12278887.py:8: DeprecationWarning: scipy.mean is deprecated and will be removed in SciPy 2.0.0, use numpy.mean instead\n",
      "  mean_scipy = sp.mean(data)\n",
      "/var/folders/f4/pcf9r9h91lbgszy1pxgprndr0000gn/T/ipykernel_29157/12278887.py:12: DeprecationWarning: scipy.var is deprecated and will be removed in SciPy 2.0.0, use numpy.var instead\n",
      "  var_scipy = sp.var(data)\n"
     ]
    }
   ],
   "source": [
    "# your code here\n",
    "import numpy as np\n",
    "import scipy as sp\n",
    "\n",
    "data = df[\"Dp\"]\n",
    "\n",
    "# Mean \n",
    "mean_scipy = sp.mean(data)\n",
    "mean_numpy = np.mean(data)\n",
    "\n",
    "# Variance \n",
    "var_scipy = sp.var(data)\n",
    "var_numpy = np.var(data)\n",
    "\n",
    "# Validate both function equate \n",
    "print(\"Mean (Scipy vs Numpy:\", mean_scipy == mean_numpy)\n",
    "print(\"Variance (Scipy vs Numpy:\", var_scipy == var_numpy)\n",
    "\n",
    "#This error indicates that this package will soon be updated and the current code for this function will be reomved and changed in the next update\n",
    "# this error is more of a warning to make you aware of the incoming changes.\n",
    "# The function to use in the furture is \"numpy.mean and numpy.var\"\n"
   ]
  },
  {
   "cell_type": "markdown",
   "id": "7334bad9",
   "metadata": {},
   "source": [
    "### Problem 3\n",
    "Fit an OLS regression (linear regression) using the statsmodels api where `y = df['Dp']` and `x = df['R']`. By default OLS estimates the theoretical mean of the dependent variable y. Statsmodels.ols does not fit a constant value by default so be sure to add a constant to `x`. Extract the coefficients into a variable named `res1_coefs`. See the documentation for `params`. Finally print the `summary()` of the model. \n",
    "\n",
    "Documentation: https://www.statsmodels.org/dev/generated/statsmodels.regression.linear_model.OLS.html"
   ]
  },
  {
   "cell_type": "code",
   "execution_count": 11,
   "id": "30e5d02a",
   "metadata": {},
   "outputs": [
    {
     "name": "stdout",
     "output_type": "stream",
     "text": [
      "                            OLS Regression Results                            \n",
      "==============================================================================\n",
      "Dep. Variable:                     Dp   R-squared:                       0.018\n",
      "Model:                            OLS   Adj. R-squared:                  0.009\n",
      "Method:                 Least Squares   F-statistic:                     1.954\n",
      "Date:                Sun, 14 Apr 2024   Prob (F-statistic):              0.165\n",
      "Time:                        21:02:41   Log-Likelihood:                 274.44\n",
      "No. Observations:                 107   AIC:                            -544.9\n",
      "Df Residuals:                     105   BIC:                            -539.5\n",
      "Df Model:                           1                                         \n",
      "Covariance Type:            nonrobust                                         \n",
      "==============================================================================\n",
      "                 coef    std err          t      P>|t|      [0.025      0.975]\n",
      "------------------------------------------------------------------------------\n",
      "R              0.1545      0.111      1.398      0.165      -0.065       0.374\n",
      "constant      -0.0031      0.008     -0.370      0.712      -0.020       0.014\n",
      "==============================================================================\n",
      "Omnibus:                       11.018   Durbin-Watson:                   2.552\n",
      "Prob(Omnibus):                  0.004   Jarque-Bera (JB):                3.844\n",
      "Skew:                          -0.050   Prob(JB):                        0.146\n",
      "Kurtosis:                       2.077   Cond. No.                         61.2\n",
      "==============================================================================\n",
      "\n",
      "Notes:\n",
      "[1] Standard Errors assume that the covariance matrix of the errors is correctly specified.\n"
     ]
    }
   ],
   "source": [
    "# your code here\n",
    "\n",
    "df[\"constant\"] = 1 \n",
    "\n",
    "y = df[\"Dp\"]\n",
    "x = df[[\"R\", \"constant\"]]\n",
    "\n",
    "model = sm.OLS(y,x)\n",
    "results = model.fit()\n",
    "\n",
    "res1_coefs = results.params\n",
    "\n",
    "print(results.summary())"
   ]
  },
  {
   "cell_type": "markdown",
   "id": "f630fe6c",
   "metadata": {},
   "source": [
    "### Probelm 4\n",
    "Fit a quantile regression model using the statsmodels api using the formula `Dp ~ R`. By default quantreg creates a constant so there is no need to add one to this model. In your `fit()` method be sure to set `q = 0.5` so that we are estimating the theoritical median.  Extract the coefficients into a variable named `res2_coefs`.  Finally print the `summary()` of the model. \n",
    "\n",
    "\n",
    "Documentation: https://www.statsmodels.org/dev/generated/statsmodels.regression.quantile_regression.QuantReg.html"
   ]
  },
  {
   "cell_type": "code",
   "execution_count": 14,
   "id": "4731c2e4",
   "metadata": {},
   "outputs": [
    {
     "name": "stdout",
     "output_type": "stream",
     "text": [
      "                         QuantReg Regression Results                          \n",
      "==============================================================================\n",
      "Dep. Variable:                     Dp   Pseudo R-squared:              0.02100\n",
      "Model:                       QuantReg   Bandwidth:                     0.02021\n",
      "Method:                 Least Squares   Sparsity:                      0.05748\n",
      "Date:                Sun, 14 Apr 2024   No. Observations:                  107\n",
      "Time:                        21:08:09   Df Residuals:                      105\n",
      "                                        Df Model:                            1\n",
      "==============================================================================\n",
      "                 coef    std err          t      P>|t|      [0.025      0.975]\n",
      "------------------------------------------------------------------------------\n",
      "Intercept     -0.0054      0.013     -0.417      0.677      -0.031       0.020\n",
      "R              0.1818      0.169      1.075      0.285      -0.153       0.517\n",
      "==============================================================================\n"
     ]
    }
   ],
   "source": [
    "# your code here\n",
    "formula = \"Dp ~ R\"\n",
    "\n",
    "\n",
    "quantreg = sm.QuantReg.from_formula(formula, data=df)\n",
    "results = quantreg.fit(q=0.5)\n",
    "\n",
    "res2_coefs = results.params\n",
    "\n",
    "print(results.summary())"
   ]
  },
  {
   "cell_type": "markdown",
   "id": "2d0d47d5",
   "metadata": {},
   "source": [
    "### Problem 5\n",
    "\n",
    "Part 1: Use the `type()` method to determine the type of `res1_coefs` and `res2_coefs`. Print the type in a Jupyter cell. \n",
    "\n",
    "Part 2: In the next Jupyter cell show that `res1_coefs > res2_coefs`. What does the error mean? To resolve this error we must convert the data to an unnamed object or change the names of the objects. Since we are not focusing on pandas this week we will simply convert to a different data type.\n",
    "\n",
    "Part 3: Now, do the same comparision using the `tolist()` function at the end of each object name. \n",
    "\n",
    "Part 4: We performed two types of linear regression and compared their coefficients. Coefficients are essentially the rate at which x changes the values of y. Do some research on what OLS estimates versus what quantreg estimates and explain why we have two different coefficient estimates. In which cases do you think quantile regression will be useful? What about ordinary least squares regression? "
   ]
  },
  {
   "cell_type": "code",
   "execution_count": 18,
   "id": "554fbe9a",
   "metadata": {},
   "outputs": [
    {
     "name": "stdout",
     "output_type": "stream",
     "text": [
      "Type of res1_coefs: <class 'pandas.core.series.Series'>\n",
      "Type of res2_coefs: <class 'pandas.core.series.Series'>\n"
     ]
    }
   ],
   "source": [
    "# your code here\n",
    "\n",
    "# Part 1 \n",
    "print(\"Type of res1_coefs:\", type(res1_coefs))\n",
    "print(\"Type of res2_coefs:\", type(res2_coefs))"
   ]
  },
  {
   "cell_type": "code",
   "execution_count": 31,
   "id": "8ca0a37e-4a09-4ac5-8480-373c539fbcc5",
   "metadata": {},
   "outputs": [],
   "source": [
    "# Part 2 \n",
    "#convert to float \n",
    "res1_coefs = res1_coefs.astype(float)\n",
    "res2_coefs = res2_coefs.astype(float)\n"
   ]
  },
  {
   "cell_type": "code",
   "execution_count": 30,
   "id": "ec1fb933-5b90-4c3b-8382-305f73219584",
   "metadata": {},
   "outputs": [
    {
     "data": {
      "text/plain": [
       "False"
      ]
     },
     "execution_count": 30,
     "metadata": {},
     "output_type": "execute_result"
    }
   ],
   "source": [
    "# Part 3 \n",
    "\n",
    "res1_coefs_list = res1_coefs.to_list()\n",
    "res2_coefs_list = res2_coefs.to_list()\n",
    "res2_coefs_list > res2_coefs.to_list()\n"
   ]
  },
  {
   "cell_type": "code",
   "execution_count": null,
   "id": "123dfc7c-8b32-41ee-9c72-ba4ef2c3a5bb",
   "metadata": {},
   "outputs": [],
   "source": [
    "# Part 4 \n",
    "\n",
    "# OlS regression find the best fitting line that represents the average relationship between\n",
    "# the dependent variable and the independent variables. Quantile regression estimates different \n",
    "# points in the distribution of the dependent variable based on the independent variabels. \n",
    "\n",
    "# OLS is useful when the relationship between variables is expected to be linear and when the \n",
    "# distribution of errors is symmetric. Quantile regression is useful when the relationship between \n",
    "# variables is not constant across the distribution of the dependent variable or when there are outliers. \n"
   ]
  },
  {
   "cell_type": "markdown",
   "id": "c0c8c7cd",
   "metadata": {},
   "source": [
    "### Problem 6\n",
    "What are the advantages of using Python as a general purpose programming language? What are the disadvantages? Why do you think data scientists and machine learning engineers prefer Python over other statistically focused languages like R? Your answer should a paragraph for: (1) advantages, (2) disadvantages, and (3) why its popular. Please cite each source used in your answer. "
   ]
  },
  {
   "attachments": {},
   "cell_type": "markdown",
   "id": "0e34f291-f38d-4e06-9b77-062b20baa960",
   "metadata": {},
   "source": [
    "Pythons popularity as a general purpose programming language come from several advantages. First, Pythons simplicity and readability make it easy to learn and understand, even for beginners. It is also known to have clean and concise syntax which allows developers to write code more quickly and efficiently. Also, python has a vast ecosystem of libraries for various domains, including data analytics, machine learning, and web development. Libraries like NumPy and Pandas allow developers to leverage tools and resources to solve complex problems more efficiently. Python is also known to have strong community support providing access to numerous tutorial and documentation for collaboration(1). \r\n",
    "\r\n",
    "Although Python has many strengths, there are also some drawbacks. One limitation of Python is its performance compared to languages like C++ or Java. Python being a dynamically typed language where the type of a variable is determined at runtime, rather than at compile time can result in slower execution spee(3)ds. Also, Python dependency management can be a problem as different versions of libraries can introduce compatibility issues which can lead to conflicts and troubleshooting. \r\n",
    "\r\n",
    "There are a few factors as to why Python has emerged as the preferred language for data scientists today. One being because of the extensive ecosystem of libraries such as NumPy and Pandas which provide powerful tools for data manipulation, analysis and visualization. Moreover, the simplicity an readability of Python allow programmers to design and experiment with machine learning models quickly and efficie.tly, Lastly, the strong community support plays a huge role in why data scientists heavily use on Python as programmers are always able to collaborate and share knowledge with each other in the commu(2)ni\n",
    "\n",
    "(1)McKinney, W. (2017). Python for data analysis: Data wrangling with Pandas, NumPy, and IPython. O'Reilly Media, Inc.\n",
    "(2)Beazley, D. (2009). Python essential reference. Addison-Wesley Professional.\n",
    "(3)Summerfield, M. (2009). Programming in Python 3: A complete introduction to the Python language. Addison-Wesley Professional.ty. \r\n"
   ]
  },
  {
   "cell_type": "code",
   "execution_count": null,
   "id": "a07eb3d0-1986-4d5b-b04b-1177b2bd599e",
   "metadata": {},
   "outputs": [],
   "source": []
  }
 ],
 "metadata": {
  "kernelspec": {
   "display_name": "Python 3 (ipykernel)",
   "language": "python",
   "name": "python3"
  },
  "language_info": {
   "codemirror_mode": {
    "name": "ipython",
    "version": 3
   },
   "file_extension": ".py",
   "mimetype": "text/x-python",
   "name": "python",
   "nbconvert_exporter": "python",
   "pygments_lexer": "ipython3",
   "version": "3.11.7"
  }
 },
 "nbformat": 4,
 "nbformat_minor": 5
}
